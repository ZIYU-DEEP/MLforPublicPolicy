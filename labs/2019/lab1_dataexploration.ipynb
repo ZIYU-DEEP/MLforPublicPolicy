{
 "cells": [
  {
   "cell_type": "markdown",
   "metadata": {},
   "source": [
    "# Lab 1: Data exploration\n",
    "\n",
    "In HW1, we did some basic data exploration and visualization. In this lab, we will continue digging through the data sets on the open data portal for more data wrangling and exploration practice. \n",
    "\n",
    "\n",
    "In addition to general data exploration, we also focus on geographical visualizations.\n",
    "\n",
    "To start we'll need to install the following python libraries:\n",
    "- geopandas\n",
    "- folium\n",
    "\n",
    "Install them with pip/conda:\n",
    "\n",
    "<code>pip install geopandas\n",
    "pip install folium\n",
    "</code>"
   ]
  },
  {
   "cell_type": "markdown",
   "metadata": {},
   "source": [
    "## Import libraries"
   ]
  },
  {
   "cell_type": "code",
   "execution_count": 2,
   "metadata": {},
   "outputs": [],
   "source": [
    "import pandas as pd\n",
    "import geopandas as gpd\n",
    "import matplotlib.pyplot as plt\n",
    "import numpy as np\n",
    "%matplotlib inline"
   ]
  },
  {
   "cell_type": "markdown",
   "metadata": {},
   "source": [
    "As you've probably noticed while doing your homework, different neighborhoods/zipcodes have different distributions of 311 requests. We will attempt to visualize these differences.\n",
    "\n",
    "Before we start, we'll need an the boundaries of the Chicago zipcodes, which we can get from: https://data.cityofchicago.org/Facilities-Geographic-Boundaries/Boundaries-ZIP-Codes/gdcf-axmw\n",
    "\n",
    "First let's load our datasets and the zipcode geojson."
   ]
  },
  {
   "cell_type": "code",
   "execution_count": null,
   "metadata": {},
   "outputs": [],
   "source": [
    "size = 20000\n",
    "# Change these filepaths\n",
    "df = pd.read_csv('../data/311_Service_Requests_Graffiti_2019.csv',nrows=size)\n",
    "geo_df = gpd.read_file('../data/chi_boundaries.geojson')"
   ]
  },
  {
   "cell_type": "code",
   "execution_count": null,
   "metadata": {
    "scrolled": true
   },
   "outputs": [],
   "source": [
    "# TODO: you might need to do preprocessing, convert columns to different types (date, string, integer, etc.)\n",
    "# Code\n"
   ]
  },
  {
   "cell_type": "markdown",
   "metadata": {},
   "source": [
    "## Choropleth Maps with geopandas\n",
    "geopandas.read_file takes in a geojson file and creates a GeoDataFrame. You can read more about it from the [geopandas api](http://geopandas.org/data_structures.html). The GeoDataFrame can then be plotted right off the bat:"
   ]
  },
  {
   "cell_type": "code",
   "execution_count": null,
   "metadata": {
    "scrolled": false
   },
   "outputs": [],
   "source": [
    "# Todo: get the first few lines in chi_boundaries.geojson dataset\n",
    "# Code\n"
   ]
  },
  {
   "cell_type": "code",
   "execution_count": null,
   "metadata": {},
   "outputs": [],
   "source": [
    "geo_df.plot()"
   ]
  },
  {
   "cell_type": "markdown",
   "metadata": {},
   "source": [
    "This is not too interesting so let's try to make the plot tell us something about each of the zipcodes. We can do this by setting the column parameter which will then shade the zipcode block according to that column. You can supply a [matplotlib colormap](https://matplotlib.org/examples/color/colormaps_reference.html) string for the cmap parameter for different types of color gradients."
   ]
  },
  {
   "cell_type": "code",
   "execution_count": null,
   "metadata": {
    "scrolled": true
   },
   "outputs": [],
   "source": [
    "geo_df.plot(column='shape_area', cmap='OrRd')"
   ]
  },
  {
   "cell_type": "markdown",
   "metadata": {},
   "source": [
    "Now, let's augment this geoDataFrame with a new column for the number of 311 requests of graffiti complaints to see something a bit more interesting. To do this we'll create a dataframe for the number of 311 requests that each zipcode received in aggregate, and merge this to geo_df"
   ]
  },
  {
   "cell_type": "code",
   "execution_count": null,
   "metadata": {
    "scrolled": true
   },
   "outputs": [],
   "source": [
    "# Get the counts\n",
    "zip_counts = df.groupby('zip').count()\n",
    "# Make a smaller dataframe with two columns: \"zip\" and \"count\"\n",
    "zipcounts = pd.DataFrame({'zip': zip_counts.index, 'count': zip_counts['STATUS']})\n",
    "print(zipcounts.head())"
   ]
  },
  {
   "cell_type": "code",
   "execution_count": null,
   "metadata": {},
   "outputs": [],
   "source": [
    "# Join them onto geo_df\n",
    "joined = geo_df.join(zipcounts, on='zip', how='left', lsuffix='l', rsuffix='r').dropna()    "
   ]
  },
  {
   "cell_type": "code",
   "execution_count": null,
   "metadata": {},
   "outputs": [],
   "source": [
    "# Plot the map color coded by number of graffiti 311 requests\n",
    "joined.plot(column='count', cmap='OrRd')\n",
    "plt.title('graffiti requests map')\n",
    "plt.show()"
   ]
  },
  {
   "cell_type": "markdown",
   "metadata": {},
   "source": [
    "## Heatmaps with folium\n",
    "\n",
    "While these visualizations are useful in summarizing where we might expect more graffiti requests to come from, they're a bit coarse because zipcode blocks can be pretty big. To get a finer grained view of where these requests happen, we'll learn how to plot a heatmap of these 311 requests using folium.\n",
    "\n",
    "Recall that our 311 data contains the latitude and longitude of these values."
   ]
  },
  {
   "cell_type": "code",
   "execution_count": 1,
   "metadata": {},
   "outputs": [],
   "source": [
    "# TODO: get the latitude and longtitude data from 311_Service_Requests_Graffiti_2019.csv dataset\n",
    "# Code\n",
    "xy = df[['LATITUDE', 'LONGITUDE']]"
   ]
  },
  {
   "cell_type": "code",
   "execution_count": null,
   "metadata": {},
   "outputs": [],
   "source": [
    "import folium\n",
    "from folium.plugins import HeatMap"
   ]
  },
  {
   "cell_type": "code",
   "execution_count": null,
   "metadata": {},
   "outputs": [],
   "source": [
    "print(xy.mean())"
   ]
  },
  {
   "cell_type": "code",
   "execution_count": null,
   "metadata": {},
   "outputs": [],
   "source": [
    "hmap = folium.Map(location=[41.87, -87.69], zoom_start=10)\n",
    "hm_rod = HeatMap(list(zip(xy['LATITUDE'].values, xy['LONGITUDE'].values)), radius=13, blur=20)\n",
    "hmap.add_child(hm_rod)"
   ]
  },
  {
   "cell_type": "markdown",
   "metadata": {
    "collapsed": true
   },
   "source": [
    "Play around with the zoom_start, radius and blur parameters to get a better sense of how they affect the resulting visualizations."
   ]
  },
  {
   "cell_type": "markdown",
   "metadata": {},
   "source": [
    "## Data Exploration Tips\n",
    "\n",
    "Here are some things you want to do during data exploration:\n",
    "\n",
    "1. Distributions of different variables\n",
    "2. Correlations between variables - you can do a correlation matrix and turn it into a heatmap\n",
    "3. Changes and trends over time - how does the data and the entities in the data change over time\n",
    "4. Missing values - are there lots of missing values? is there any pattern there?\n",
    "5. looking at outliers - this can be done using clustering (that we will cover later) but also using other methods by plotting distributions.\n",
    "6. cross-tabs, describing how the different types of entities are different.\n",
    "\n",
    "It's good to have code that does each of the things above. The exercises below are a start in helping you create that for yourself.\n"
   ]
  },
  {
   "cell_type": "markdown",
   "metadata": {},
   "source": [
    "## Exercises:\n",
    "Now that we've seen how to create some simple geographical visualizations you should aggregate the 311 requests by zipcode and visualize request frequency, average request completion time by location, and any other things you find interesting. Some specific questions that might be good to explore:\n"
   ]
  },
  {
   "cell_type": "markdown",
   "metadata": {},
   "source": [
    "### Do certain neighborhoods get certain graffiti requests completed faster than others?\n",
    "\n",
    "\n"
   ]
  },
  {
   "cell_type": "code",
   "execution_count": null,
   "metadata": {},
   "outputs": [],
   "source": [
    "#code\n"
   ]
  },
  {
   "cell_type": "markdown",
   "metadata": {},
   "source": [
    "### Is there any seasonality to the requests? what about seasonal variations in completion times?"
   ]
  },
  {
   "cell_type": "code",
   "execution_count": null,
   "metadata": {},
   "outputs": [],
   "source": [
    "#code"
   ]
  },
  {
   "cell_type": "markdown",
   "metadata": {},
   "source": [
    "### Are there any outliers in terms of time periods or neighborhoods?"
   ]
  },
  {
   "cell_type": "code",
   "execution_count": null,
   "metadata": {},
   "outputs": [],
   "source": [
    "# code"
   ]
  },
  {
   "cell_type": "markdown",
   "metadata": {
    "collapsed": true
   },
   "source": [
    "### Which neighborhoods are the most similar in terms of graffiti service requests being reported?"
   ]
  },
  {
   "cell_type": "code",
   "execution_count": null,
   "metadata": {},
   "outputs": [],
   "source": [
    "# code"
   ]
  },
  {
   "cell_type": "markdown",
   "metadata": {},
   "source": [
    "### References\n",
    "http://pandas.pydata.org/pandas-docs/stable/timeseries.html\n",
    "\n",
    "http://pandas.pydata.org/pandas-docs/stable/generated/pandas.DataFrame.groupby.html\n",
    "\n",
    "http://geopandas.org/mapping.html\n",
    "\n",
    "http://geopandas.org/mergingdata.html\n",
    "\n",
    "http://python-visualization.github.io/folium/docs-v0.5.0/index.html\n",
    "\n",
    "### Examples\n",
    "http://blog.yhat.com/posts/interactive-geospatial-analysis.html\n",
    "\n",
    "https://alcidanalytics.com/p/geographic-heatmap-in-python"
   ]
  }
 ],
 "metadata": {
  "kernelspec": {
   "display_name": "Python 3",
   "language": "python",
   "name": "python3"
  },
  "language_info": {
   "codemirror_mode": {
    "name": "ipython",
    "version": 3
   },
   "file_extension": ".py",
   "mimetype": "text/x-python",
   "name": "python",
   "nbconvert_exporter": "python",
   "pygments_lexer": "ipython3",
   "version": "3.6.7"
  }
 },
 "nbformat": 4,
 "nbformat_minor": 2
}
